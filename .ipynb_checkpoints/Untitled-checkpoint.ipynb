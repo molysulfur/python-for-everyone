{
 "cells": [
  {
   "cell_type": "code",
   "execution_count": 1,
   "id": "06aee047-68b9-489a-8df7-334e7df35161",
   "metadata": {},
   "outputs": [],
   "source": [
    "lower = \"hello world\""
   ]
  },
  {
   "cell_type": "code",
   "execution_count": 2,
   "id": "f7ef4827-357d-4e99-a465-148f35b3e944",
   "metadata": {},
   "outputs": [
    {
     "data": {
      "text/plain": [
       "'HELLO WORLD'"
      ]
     },
     "execution_count": 2,
     "metadata": {},
     "output_type": "execute_result"
    }
   ],
   "source": [
    "lower.upper()"
   ]
  },
  {
   "cell_type": "code",
   "execution_count": 4,
   "id": "b8b6840c-3036-4d21-9ff2-208c84ab0158",
   "metadata": {},
   "outputs": [
    {
     "data": {
      "text/plain": [
       "'hello world'"
      ]
     },
     "execution_count": 4,
     "metadata": {},
     "output_type": "execute_result"
    }
   ],
   "source": [
    "upper = \"HELLO WORLD\"\n",
    "upper.lower()"
   ]
  },
  {
   "cell_type": "code",
   "execution_count": 5,
   "id": "71932eb7-aeb6-4776-b20f-6b88cffd8b86",
   "metadata": {},
   "outputs": [],
   "source": [
    "hashmap = {\"key1\" :\"value1\",\"key2\" :\"value2\"}"
   ]
  },
  {
   "cell_type": "code",
   "execution_count": null,
   "id": "ba55b555-ccd6-4c7c-9284-7ebe5d36accb",
   "metadata": {},
   "outputs": [],
   "source": [
    "hashmap.dict()"
   ]
  }
 ],
 "metadata": {
  "kernelspec": {
   "display_name": "Python 3 (ipykernel)",
   "language": "python",
   "name": "python3"
  },
  "language_info": {
   "codemirror_mode": {
    "name": "ipython",
    "version": 3
   },
   "file_extension": ".py",
   "mimetype": "text/x-python",
   "name": "python",
   "nbconvert_exporter": "python",
   "pygments_lexer": "ipython3",
   "version": "3.9.6"
  }
 },
 "nbformat": 4,
 "nbformat_minor": 5
}
