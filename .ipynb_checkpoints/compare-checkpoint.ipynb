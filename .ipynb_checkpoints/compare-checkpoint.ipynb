{
 "cells": [
  {
   "cell_type": "code",
   "execution_count": 1,
   "id": "fd574bbf-5fd7-4532-be40-07a8ed6b22b3",
   "metadata": {},
   "outputs": [
    {
     "data": {
      "text/plain": [
       "False"
      ]
     },
     "execution_count": 1,
     "metadata": {},
     "output_type": "execute_result"
    }
   ],
   "source": [
    "1 < 1"
   ]
  },
  {
   "cell_type": "code",
   "execution_count": 2,
   "id": "57b0c8c8-6827-4d90-af84-421a193d2834",
   "metadata": {},
   "outputs": [
    {
     "data": {
      "text/plain": [
       "True"
      ]
     },
     "execution_count": 2,
     "metadata": {},
     "output_type": "execute_result"
    }
   ],
   "source": [
    "1< 2"
   ]
  },
  {
   "cell_type": "code",
   "execution_count": 3,
   "id": "f8585491-c716-4968-9d04-402ca6c39c23",
   "metadata": {},
   "outputs": [
    {
     "data": {
      "text/plain": [
       "False"
      ]
     },
     "execution_count": 3,
     "metadata": {},
     "output_type": "execute_result"
    }
   ],
   "source": [
    "\"hi\" == \"say\""
   ]
  },
  {
   "cell_type": "code",
   "execution_count": 4,
   "id": "fdfd7d35-8dca-48be-8b9e-b40f32a6ba17",
   "metadata": {},
   "outputs": [
    {
     "data": {
      "text/plain": [
       "True"
      ]
     },
     "execution_count": 4,
     "metadata": {},
     "output_type": "execute_result"
    }
   ],
   "source": [
    "\"hi\" == \"hi\""
   ]
  },
  {
   "cell_type": "code",
   "execution_count": 6,
   "id": "228b78ff-20a1-428b-b82e-bea459703063",
   "metadata": {},
   "outputs": [
    {
     "data": {
      "text/plain": [
       "True"
      ]
     },
     "execution_count": 6,
     "metadata": {},
     "output_type": "execute_result"
    }
   ],
   "source": [
    "(1 == 1) and (2 == 2)"
   ]
  },
  {
   "cell_type": "code",
   "execution_count": 7,
   "id": "1f0941aa-bbe3-49a2-851f-61337a631c25",
   "metadata": {},
   "outputs": [
    {
     "data": {
      "text/plain": [
       "False"
      ]
     },
     "execution_count": 7,
     "metadata": {},
     "output_type": "execute_result"
    }
   ],
   "source": [
    "(1 == 1) and (2 != 2)"
   ]
  },
  {
   "cell_type": "code",
   "execution_count": 8,
   "id": "ac6c9892-516e-4797-9ced-ca10b42ec117",
   "metadata": {},
   "outputs": [
    {
     "data": {
      "text/plain": [
       "True"
      ]
     },
     "execution_count": 8,
     "metadata": {},
     "output_type": "execute_result"
    }
   ],
   "source": [
    "(1 == 1) or (2 != 2)"
   ]
  },
  {
   "cell_type": "code",
   "execution_count": null,
   "id": "65a73704-1919-41d9-81d6-8132b9d1097d",
   "metadata": {},
   "outputs": [],
   "source": []
  }
 ],
 "metadata": {
  "kernelspec": {
   "display_name": "Python 3 (ipykernel)",
   "language": "python",
   "name": "python3"
  },
  "language_info": {
   "codemirror_mode": {
    "name": "ipython",
    "version": 3
   },
   "file_extension": ".py",
   "mimetype": "text/x-python",
   "name": "python",
   "nbconvert_exporter": "python",
   "pygments_lexer": "ipython3",
   "version": "3.9.6"
  }
 },
 "nbformat": 4,
 "nbformat_minor": 5
}
