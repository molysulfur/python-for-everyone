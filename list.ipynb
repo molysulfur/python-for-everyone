{
 "cells": [
  {
   "cell_type": "code",
   "execution_count": 7,
   "id": "a2ead2fc-f055-4cb5-b5b2-26ff2dd6568c",
   "metadata": {},
   "outputs": [],
   "source": [
    "a = [1,2,3,4]\n",
    "b = []"
   ]
  },
  {
   "cell_type": "code",
   "execution_count": 8,
   "id": "19fd9fde-1064-4b5c-91a9-901513b86d58",
   "metadata": {},
   "outputs": [],
   "source": [
    "# loop\n",
    "for i in a:\n",
    "    b.append(i+1)"
   ]
  },
  {
   "cell_type": "code",
   "execution_count": 9,
   "id": "22660ae9-f6a1-40f0-b4d5-b4f3121a7fcd",
   "metadata": {},
   "outputs": [
    {
     "name": "stdout",
     "output_type": "stream",
     "text": [
      "[2, 3, 4, 5]\n"
     ]
    }
   ],
   "source": [
    "print(b)"
   ]
  },
  {
   "cell_type": "code",
   "execution_count": 10,
   "id": "d33fc103-433b-4033-9961-2817c6107004",
   "metadata": {},
   "outputs": [
    {
     "name": "stdout",
     "output_type": "stream",
     "text": [
      "a 1\n",
      "ab 2\n",
      "abc 3\n"
     ]
    }
   ],
   "source": [
    "#len\n",
    "c = [\"a\",\"ab\",\"abc\"]\n",
    "for i in c:\n",
    "    print(i,len(i))"
   ]
  },
  {
   "cell_type": "code",
   "execution_count": 11,
   "id": "69bc8ea5-6f89-4a08-bc32-c592d8a23a57",
   "metadata": {},
   "outputs": [],
   "source": [
    "# map\n",
    "seq = [1,2,3,4]"
   ]
  },
  {
   "cell_type": "code",
   "execution_count": 12,
   "id": "11534ee5-d9e1-44b1-a9de-8f394f24ac34",
   "metadata": {},
   "outputs": [],
   "source": [
    "def time2(a):\n",
    "    return a*2"
   ]
  },
  {
   "cell_type": "code",
   "execution_count": 15,
   "id": "5c04b495-65eb-49a0-b436-ed97894857bd",
   "metadata": {},
   "outputs": [],
   "source": [
    "maplist = map(time2,seq)"
   ]
  },
  {
   "cell_type": "code",
   "execution_count": 16,
   "id": "c87e67b2-ea9a-458e-978b-ae9d0b920bcc",
   "metadata": {},
   "outputs": [
    {
     "data": {
      "text/plain": [
       "[2, 4, 6, 8]"
      ]
     },
     "execution_count": 16,
     "metadata": {},
     "output_type": "execute_result"
    }
   ],
   "source": [
    "list(maplist)"
   ]
  },
  {
   "cell_type": "code",
   "execution_count": 17,
   "id": "1054c6a5-00f5-4002-9fdd-90243d7a8474",
   "metadata": {},
   "outputs": [],
   "source": [
    "filterlist = filter((lambda var : var%2 ==0),seq)\n"
   ]
  },
  {
   "cell_type": "code",
   "execution_count": 18,
   "id": "61a7ee8c-1762-4a86-83c6-4f9fdfea6a37",
   "metadata": {},
   "outputs": [
    {
     "data": {
      "text/plain": [
       "[2, 4]"
      ]
     },
     "execution_count": 18,
     "metadata": {},
     "output_type": "execute_result"
    }
   ],
   "source": [
    "list(filterlist)"
   ]
  },
  {
   "cell_type": "code",
   "execution_count": null,
   "id": "ea405852-a7be-48fb-b468-951ecde5d84d",
   "metadata": {},
   "outputs": [],
   "source": []
  }
 ],
 "metadata": {
  "kernelspec": {
   "display_name": "Python 3 (ipykernel)",
   "language": "python",
   "name": "python3"
  },
  "language_info": {
   "codemirror_mode": {
    "name": "ipython",
    "version": 3
   },
   "file_extension": ".py",
   "mimetype": "text/x-python",
   "name": "python",
   "nbconvert_exporter": "python",
   "pygments_lexer": "ipython3",
   "version": "3.9.6"
  }
 },
 "nbformat": 4,
 "nbformat_minor": 5
}
