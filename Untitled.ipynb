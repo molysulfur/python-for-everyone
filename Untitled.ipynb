{
 "cells": [
  {
   "cell_type": "code",
   "execution_count": 1,
   "id": "06aee047-68b9-489a-8df7-334e7df35161",
   "metadata": {},
   "outputs": [],
   "source": [
    "lower = \"hello world\""
   ]
  },
  {
   "cell_type": "code",
   "execution_count": 2,
   "id": "f7ef4827-357d-4e99-a465-148f35b3e944",
   "metadata": {},
   "outputs": [
    {
     "data": {
      "text/plain": [
       "'HELLO WORLD'"
      ]
     },
     "execution_count": 2,
     "metadata": {},
     "output_type": "execute_result"
    }
   ],
   "source": [
    "lower.upper()"
   ]
  },
  {
   "cell_type": "code",
   "execution_count": 4,
   "id": "b8b6840c-3036-4d21-9ff2-208c84ab0158",
   "metadata": {},
   "outputs": [
    {
     "data": {
      "text/plain": [
       "'hello world'"
      ]
     },
     "execution_count": 4,
     "metadata": {},
     "output_type": "execute_result"
    }
   ],
   "source": [
    "upper = \"HELLO WORLD\"\n",
    "upper.lower()"
   ]
  },
  {
   "cell_type": "code",
   "execution_count": 5,
   "id": "71932eb7-aeb6-4776-b20f-6b88cffd8b86",
   "metadata": {},
   "outputs": [],
   "source": [
    "hashmap = {\"key1\" :\"value1\",\"key2\" :\"value2\"}"
   ]
  },
  {
   "cell_type": "code",
   "execution_count": 7,
   "id": "ba55b555-ccd6-4c7c-9284-7ebe5d36accb",
   "metadata": {},
   "outputs": [
    {
     "data": {
      "text/plain": [
       "dict_keys(['key1', 'key2'])"
      ]
     },
     "execution_count": 7,
     "metadata": {},
     "output_type": "execute_result"
    }
   ],
   "source": [
    "hashmap.keys()"
   ]
  },
  {
   "cell_type": "code",
   "execution_count": 8,
   "id": "5972ce33-6ea7-432c-8fe9-b66a59eaf89f",
   "metadata": {},
   "outputs": [
    {
     "data": {
      "text/plain": [
       "dict_items([('key1', 'value1'), ('key2', 'value2')])"
      ]
     },
     "execution_count": 8,
     "metadata": {},
     "output_type": "execute_result"
    }
   ],
   "source": [
    "hashmap.items()"
   ]
  },
  {
   "cell_type": "code",
   "execution_count": 9,
   "id": "279bd456-8e84-49c9-99d9-7b300067be55",
   "metadata": {},
   "outputs": [],
   "source": [
    "list  = [1,2,3,4,5]"
   ]
  },
  {
   "cell_type": "code",
   "execution_count": 10,
   "id": "12a6cbe8-a3f4-4f02-a39e-4fcaef56950b",
   "metadata": {},
   "outputs": [
    {
     "data": {
      "text/plain": [
       "5"
      ]
     },
     "execution_count": 10,
     "metadata": {},
     "output_type": "execute_result"
    }
   ],
   "source": [
    "list.pop()"
   ]
  },
  {
   "cell_type": "code",
   "execution_count": 11,
   "id": "5a5a3f85-f3e0-48a0-bdfb-a6aa04da3a59",
   "metadata": {},
   "outputs": [
    {
     "data": {
      "text/plain": [
       "[1, 2, 3, 4]"
      ]
     },
     "execution_count": 11,
     "metadata": {},
     "output_type": "execute_result"
    }
   ],
   "source": [
    "list"
   ]
  },
  {
   "cell_type": "code",
   "execution_count": 12,
   "id": "d1cbacc7-f354-4e03-a4f7-74ded34ba2bc",
   "metadata": {},
   "outputs": [],
   "source": [
    "list.extend([5,6,7])"
   ]
  },
  {
   "cell_type": "code",
   "execution_count": 13,
   "id": "05ff13d0-ed84-4c9b-a7ee-e9a87a73e7a7",
   "metadata": {},
   "outputs": [
    {
     "data": {
      "text/plain": [
       "[1, 2, 3, 4, 5, 6, 7]"
      ]
     },
     "execution_count": 13,
     "metadata": {},
     "output_type": "execute_result"
    }
   ],
   "source": [
    "list"
   ]
  },
  {
   "cell_type": "code",
   "execution_count": null,
   "id": "e14973a4-8b39-44c1-b324-490fcd274593",
   "metadata": {},
   "outputs": [],
   "source": []
  }
 ],
 "metadata": {
  "kernelspec": {
   "display_name": "Python 3 (ipykernel)",
   "language": "python",
   "name": "python3"
  },
  "language_info": {
   "codemirror_mode": {
    "name": "ipython",
    "version": 3
   },
   "file_extension": ".py",
   "mimetype": "text/x-python",
   "name": "python",
   "nbconvert_exporter": "python",
   "pygments_lexer": "ipython3",
   "version": "3.9.6"
  }
 },
 "nbformat": 4,
 "nbformat_minor": 5
}
